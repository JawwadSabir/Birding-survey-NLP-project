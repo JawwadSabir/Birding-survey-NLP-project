{
 "cells": [
  {
   "cell_type": "markdown",
   "metadata": {},
   "source": [
    "#  --------------------- Imperial Valley Birds data - Guy McCaskie ----------------------"
   ]
  },
  {
   "cell_type": "code",
   "execution_count": 15,
   "metadata": {},
   "outputs": [],
   "source": [
    "# import date and time processing libraries\n",
    "import datefinder\n",
    "import datetime\n",
    "\n",
    "# import libraries used for interacting with os and bash\n",
    "import os\n",
    "import subprocess\n",
    "import shlex\n",
    "\n",
    "import exception"
   ]
  },
  {
   "cell_type": "markdown",
   "metadata": {},
   "source": [
    "All the files contain dates which are in different formats and some of them are duplicate.\n",
    "In order to clean the file names, I am going to change the format to datetime %y-%m-%d"
   ]
  },
  {
   "cell_type": "code",
   "execution_count": 2,
   "metadata": {},
   "outputs": [],
   "source": [
    "def filename_to_date(filename):\n",
    "    matches = datefinder.find_dates(filename)\n",
    "    for match in matches:\n",
    "        return str(match.date())"
   ]
  },
  {
   "cell_type": "markdown",
   "metadata": {},
   "source": [
    "os.listdir is used to iterate over all the files present in the specified directory"
   ]
  },
  {
   "cell_type": "markdown",
   "metadata": {},
   "source": [
    "This code below changes the filename to its date, It is commented out to in reder to avoid overwriting"
   ]
  },
  {
   "cell_type": "code",
   "execution_count": 3,
   "metadata": {},
   "outputs": [],
   "source": [
    "# directory = \"/home/jawwad/Data - guy's surveys/Guy_s surveys\"\n",
    "# try:\n",
    "#     for file in os.listdir(directory):\n",
    "#         new_filename = filename_to_date(file)\n",
    "# os.path.join concatenates the given directory and filename according to the proper format.\n",
    "#         path = os.path.join(directory, file)\n",
    "#         target = os.path.join(directory, new_filename)\n",
    "\n",
    "#         print(file,\"\\t\\t\\t\\t\", new_filename)\n",
    "#         os.rename(path, target)\n",
    "# except: \n",
    "#     print('Exception occured:', exception)\n"
   ]
  },
  {
   "cell_type": "markdown",
   "metadata": {},
   "source": [
    "This block will change the file format to .docx - use this once in order to avoid corrupted files/data loss"
   ]
  },
  {
   "cell_type": "code",
   "execution_count": null,
   "metadata": {},
   "outputs": [],
   "source": [
    "# try:\n",
    "#     for filename in os.listdir(directory):\n",
    "#         if \".docx\" not in filename:\n",
    "#             if \".doc\" not in filename:\n",
    "#                 continue\n",
    "                \n",
    "#                 path = os.path.join(directory, filename)\n",
    "#                 dest_path = os.path.splitext(path)[0] + \".txt\"\n",
    "#                 cmd = \"antiword %s > %s\" % (shlex.quote(path), shlex.quote(dest_path))\n",
    "#                 print(cmd)\n",
    "#                 os.system(cmd)\n",
    "# except:\n",
    "#     print('Exception occured:', exception)"
   ]
  }
 ],
 "metadata": {
  "kernelspec": {
   "display_name": "Python 3",
   "language": "python",
   "name": "python3"
  },
  "language_info": {
   "codemirror_mode": {
    "name": "ipython",
    "version": 3
   },
   "file_extension": ".py",
   "mimetype": "text/x-python",
   "name": "python",
   "nbconvert_exporter": "python",
   "pygments_lexer": "ipython3",
   "version": "3.7.6"
  }
 },
 "nbformat": 4,
 "nbformat_minor": 4
}
